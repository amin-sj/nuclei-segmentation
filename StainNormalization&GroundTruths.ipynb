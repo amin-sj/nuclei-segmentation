{
  "nbformat": 4,
  "nbformat_minor": 0,
  "metadata": {
    "colab": {
      "provenance": []
    },
    "kernelspec": {
      "name": "python3",
      "display_name": "Python 3"
    },
    "language_info": {
      "name": "python"
    }
  },
  "cells": [
    {
      "cell_type": "markdown",
      "source": [
        "## Stain normalization"
      ],
      "metadata": {
        "id": "888FblbbygBT"
      }
    },
    {
      "cell_type": "code",
      "execution_count": 1,
      "metadata": {
        "colab": {
          "base_uri": "https://localhost:8080/"
        },
        "id": "y5f7Nk2jvbTK",
        "outputId": "84c91553-7af7-42c5-a486-febf2d48eb5c"
      },
      "outputs": [
        {
          "output_type": "stream",
          "name": "stdout",
          "text": [
            "--2023-02-03 15:12:21--  https://raw.githubusercontent.com/wanghao14/Stain_Normalization/master/stain_utils.py\n",
            "Resolving raw.githubusercontent.com (raw.githubusercontent.com)... 185.199.110.133, 185.199.111.133, 185.199.108.133, ...\n",
            "Connecting to raw.githubusercontent.com (raw.githubusercontent.com)|185.199.110.133|:443... connected.\n",
            "HTTP request sent, awaiting response... 200 OK\n",
            "Length: 4255 (4.2K) [text/plain]\n",
            "Saving to: ‘stain_utils.py’\n",
            "\n",
            "stain_utils.py      100%[===================>]   4.16K  --.-KB/s    in 0s      \n",
            "\n",
            "2023-02-03 15:12:21 (44.0 MB/s) - ‘stain_utils.py’ saved [4255/4255]\n",
            "\n",
            "--2023-02-03 15:12:22--  https://raw.githubusercontent.com/wanghao14/Stain_Normalization/master/stainNorm_Macenko.py\n",
            "Resolving raw.githubusercontent.com (raw.githubusercontent.com)... 185.199.108.133, 185.199.109.133, 185.199.110.133, ...\n",
            "Connecting to raw.githubusercontent.com (raw.githubusercontent.com)|185.199.108.133|:443... connected.\n",
            "HTTP request sent, awaiting response... 200 OK\n",
            "Length: 2663 (2.6K) [text/plain]\n",
            "Saving to: ‘stainNorm_Macenko.py’\n",
            "\n",
            "stainNorm_Macenko.p 100%[===================>]   2.60K  --.-KB/s    in 0s      \n",
            "\n",
            "2023-02-03 15:12:22 (50.3 MB/s) - ‘stainNorm_Macenko.py’ saved [2663/2663]\n",
            "\n",
            "Looking in indexes: https://pypi.org/simple, https://us-python.pkg.dev/colab-wheels/public/simple/\n",
            "Collecting spams\n",
            "  Downloading spams-2.6.5.4.tar.gz (2.0 MB)\n",
            "\u001b[2K     \u001b[90m━━━━━━━━━━━━━━━━━━━━━━━━━━━━━━━━━━━━━━━━\u001b[0m \u001b[32m2.0/2.0 MB\u001b[0m \u001b[31m15.0 MB/s\u001b[0m eta \u001b[36m0:00:00\u001b[0m\n",
            "\u001b[?25h  Installing build dependencies ... \u001b[?25l\u001b[?25hdone\n",
            "  Getting requirements to build wheel ... \u001b[?25l\u001b[?25hdone\n",
            "  Preparing metadata (pyproject.toml) ... \u001b[?25l\u001b[?25hdone\n",
            "Requirement already satisfied: scipy>=1.0 in /usr/local/lib/python3.8/dist-packages (from spams) (1.7.3)\n",
            "Requirement already satisfied: numpy>=1.12 in /usr/local/lib/python3.8/dist-packages (from spams) (1.21.6)\n",
            "Requirement already satisfied: Pillow>=6.0 in /usr/local/lib/python3.8/dist-packages (from spams) (7.1.2)\n",
            "Building wheels for collected packages: spams\n",
            "  Building wheel for spams (pyproject.toml) ... \u001b[?25l\u001b[?25hdone\n",
            "  Created wheel for spams: filename=spams-2.6.5.4-cp38-cp38-linux_x86_64.whl size=4466442 sha256=bc2090b27ee35eb8f61ed5ae9adcd462783cf5ce60b2fbc11c2668313167bcb5\n",
            "  Stored in directory: /root/.cache/pip/wheels/38/d6/cd/b79299cdb26aa57760dbbeb096bc8b71b10c69f4bb95dbd16c\n",
            "Successfully built spams\n",
            "Installing collected packages: spams\n",
            "Successfully installed spams-2.6.5.4\n"
          ]
        }
      ],
      "source": [
        "# https://github.com/wanghao14/Stain_Normalization\n",
        "!wget https://raw.githubusercontent.com/wanghao14/Stain_Normalization/master/stain_utils.py\n",
        "!wget https://raw.githubusercontent.com/wanghao14/Stain_Normalization/master/stainNorm_Macenko.py\n",
        "!pip install spams"
      ]
    },
    {
      "cell_type": "code",
      "source": [
        "!pwd"
      ],
      "metadata": {
        "id": "nBftYz0RxbQ-",
        "colab": {
          "base_uri": "https://localhost:8080/"
        },
        "outputId": "75478fbf-2c8a-4297-eec3-231561b2112c"
      },
      "execution_count": 2,
      "outputs": [
        {
          "output_type": "stream",
          "name": "stdout",
          "text": [
            "/content\n"
          ]
        }
      ]
    },
    {
      "cell_type": "code",
      "source": [
        "from google.colab import drive\n",
        "drive.mount('/content/drive')"
      ],
      "metadata": {
        "colab": {
          "base_uri": "https://localhost:8080/"
        },
        "id": "h8eTMr_Vm5QE",
        "outputId": "2634d677-aa77-42a1-eff6-1721b4a8beca"
      },
      "execution_count": 3,
      "outputs": [
        {
          "output_type": "stream",
          "name": "stdout",
          "text": [
            "Mounted at /content/drive\n"
          ]
        }
      ]
    },
    {
      "cell_type": "code",
      "source": [
        "%cd drive/MyDrive/nuclei_segmentation"
      ],
      "metadata": {
        "id": "AgEAlL9rxctw",
        "colab": {
          "base_uri": "https://localhost:8080/"
        },
        "outputId": "0634d20f-747b-426c-88ac-bc486b24cf22"
      },
      "execution_count": 4,
      "outputs": [
        {
          "output_type": "stream",
          "name": "stdout",
          "text": [
            "/content/drive/MyDrive/nuclei_segmentation\n"
          ]
        }
      ]
    },
    {
      "cell_type": "code",
      "source": [
        "import os\n",
        "import cv2\n",
        "import glob\n",
        "import shutil\n",
        "import numpy as np\n",
        "from tqdm import tqdm\n",
        "from PIL import Image\n",
        "import matplotlib.pyplot as plt\n",
        "\n",
        "import stain_utils as utils\n",
        "import stainNorm_Macenko"
      ],
      "metadata": {
        "id": "sXB3Dw3NwlFe"
      },
      "execution_count": 5,
      "outputs": []
    },
    {
      "cell_type": "code",
      "source": [
        "def  macenko_normalize(img_dir: str, ref_img_dir:str):\n",
        "    # read image\n",
        "    img = utils.read_image(img_dir)\n",
        "    n = stainNorm_Macenko.Normalizer()\n",
        "\n",
        "    # fit macenko normallizer on reference image\n",
        "    n.fit(np.array(Image.open(ref_img_dir))) \n",
        "\n",
        "    # stain normalize H&E image\n",
        "    normalized_img = n.transform(img)\n",
        "\n",
        "    return normalized_img"
      ],
      "metadata": {
        "id": "GFuvOpD-wtRI"
      },
      "execution_count": 6,
      "outputs": []
    },
    {
      "cell_type": "code",
      "source": [
        "def create_path(path):\n",
        "    if not os.path.exists(path):\n",
        "        os.makedirs(path)"
      ],
      "metadata": {
        "id": "95_Z3ibvw6xj"
      },
      "execution_count": 7,
      "outputs": []
    },
    {
      "cell_type": "code",
      "source": [
        "train_dir = \"dataset/monuseg/original/train/tissue_images\"\n",
        "test_dir = \"dataset/monuseg/original/test/tissue_images\""
      ],
      "metadata": {
        "id": "LT-fWMTOxaG-"
      },
      "execution_count": 8,
      "outputs": []
    },
    {
      "cell_type": "code",
      "source": [
        "train_stain_normalized_images_path = \"dataset/monuseg/stain_normalized/train/tissue_images\"\n",
        "create_path(train_stain_normalized_images_path)\n",
        "\n",
        "test_stain_normalized_images_path = \"dataset/monuseg/stain_normalized/test/tissue_images\"\n",
        "create_path(test_stain_normalized_images_path)\n",
        "\n",
        "# reference image path \n",
        "ref_img_dir = \"dataset/monuseg/original/train/tissue_images/TCGA-AR-A1AS-01Z-00-DX1.tif\""
      ],
      "metadata": {
        "id": "dfyiBrOrx7sP"
      },
      "execution_count": 9,
      "outputs": []
    },
    {
      "cell_type": "code",
      "source": [
        "for image_path in tqdm(glob.glob(os.path.join(train_dir, \"*\")), total=len(os.listdir(train_dir))):\n",
        "    name = os.path.basename(image_path)\n",
        "    normI= macenko_normalize(image_path, ref_img_dir)\n",
        "    normI = Image.fromarray(normI.astype(np.uint8))\n",
        "    normI.save(os.path.join(train_stain_normalized_images_path, name))"
      ],
      "metadata": {
        "colab": {
          "base_uri": "https://localhost:8080/"
        },
        "id": "PxE21xs6yYc5",
        "outputId": "2cd19da8-1307-4023-d9c8-95eacd7433b2"
      },
      "execution_count": 10,
      "outputs": [
        {
          "output_type": "stream",
          "name": "stderr",
          "text": [
            "100%|██████████| 30/30 [02:13<00:00,  4.46s/it]\n"
          ]
        }
      ]
    },
    {
      "cell_type": "code",
      "source": [
        "for image_path in tqdm(glob.glob(os.path.join(test_dir, \"*\")), total=len(os.listdir(test_dir))):\n",
        "    name = os.path.basename(image_path)\n",
        "    normI= macenko_normalize(image_path, ref_img_dir)\n",
        "    normI = Image.fromarray(normI.astype(np.uint8))\n",
        "    normI.save(os.path.join(test_stain_normalized_images_path, name))"
      ],
      "metadata": {
        "colab": {
          "base_uri": "https://localhost:8080/"
        },
        "id": "yLPRFzJ7zf1T",
        "outputId": "71fd2051-fd58-45dd-90d7-020b6382bb9e"
      },
      "execution_count": 11,
      "outputs": [
        {
          "output_type": "stream",
          "name": "stderr",
          "text": [
            "100%|██████████| 14/14 [01:01<00:00,  4.42s/it]\n"
          ]
        }
      ]
    },
    {
      "cell_type": "markdown",
      "source": [
        "## Modifying GT"
      ],
      "metadata": {
        "id": "WhZaVsyk0YU7"
      }
    },
    {
      "cell_type": "code",
      "source": [
        "import xml.etree.ElementTree as ET\n",
        "from skimage.draw import polygon, polygon_perimeter"
      ],
      "metadata": {
        "id": "Vk98hF9H0a8Y"
      },
      "execution_count": 12,
      "outputs": []
    },
    {
      "cell_type": "code",
      "source": [
        "# https://github.com/ykrmm/monuseg/blob/main/dataset_utils/xml_to_mask.py\n",
        "# https://github.com/bnsreenu/python_for_microscopists/blob/master/tips_tricks_31_generating_borders_around_objects.py\n",
        "# a function to generate border\n",
        "def generate_boarder(_mask, boarder_size=5, n_erosions=1):\n",
        "    # Define a kernel for erosion\n",
        "    erosion_kernel = np.ones((3, 3), dtype=np.uint8)\n",
        "    eroded_mask = cv2.erode(_mask, erosion_kernel, iterations=n_erosions)\n",
        "\n",
        "    # Define kernel size for dilation\n",
        "    kernel_size = 2 * boarder_size + 1\n",
        "    dilation_kernel = np.ones((kernel_size, kernel_size), dtype=np.uint8)\n",
        "    dilated_mask = cv2.dilate(eroded_mask, dilation_kernel, iterations=1)\n",
        "\n",
        "    dilated_127 = np.where(dilated_mask == 255, 127, 0)\n",
        "\n",
        "    mask_with_boarders = np.where(eroded_mask > 0, 255, dilated_127)\n",
        "\n",
        "    return mask_with_boarders\n",
        "\n",
        "def generate_mask(xml_file, shape, instance=False, color=False):\n",
        "    tree = ET.parse(xml_file)\n",
        "    xDoc = tree.getroot()\n",
        "    regions = xDoc.iter('Region')\n",
        "    array_xy = []\n",
        "    \n",
        "    for i,region in enumerate(regions): # Region = nuclei \n",
        "        verticies = region.iter('Vertex')\n",
        "        l_verticies = len(list(region.iter('Vertex')))\n",
        "        xy = []\n",
        "        for vertexi,vertex in enumerate(region.iter('Vertex')):  \n",
        "            #get the x value of that vertex\n",
        "            x = float(vertex.attrib['X'])\n",
        "            y = float(vertex.attrib['Y'])\n",
        "\n",
        "            xy.append([x, y])        # finally save them into the array\n",
        "        array_xy.append(xy)\n",
        "    array_xy = np.array(array_xy, dtype=list)  \n",
        "    ncol, nrow = shape[0], shape[1]\n",
        "    binary_mask = np.zeros((nrow, ncol))\n",
        "    color_mask = np.zeros((3, nrow, ncol))\n",
        "\n",
        "    for i,r in enumerate(array_xy):    #for each region\n",
        "        smaller_x = np.array(r)[:,0] \n",
        "        smaller_y = np.array(r)[:,1]\n",
        "        if instance:\n",
        "            value = i + 1\n",
        "        else:\n",
        "            value = 1\n",
        "        r1, c1 = polygon(smaller_x, smaller_y, shape=(nrow, ncol))\n",
        "        binary_mask[r1, c1] = value\n",
        "        if color:\n",
        "            temp_mask = np.zeros((nrow, ncol), dtype=int)\n",
        "            temp_mask[r1, c1] = 1\n",
        "            color_mask = color_mask + np.stack((np.random.rand() * temp_mask, np.random.rand()* temp_mask, np.random.rand() * temp_mask))\n",
        "    if color:\n",
        "        return binary_mask.T, color_mask.T\n",
        "    else:\n",
        "        return binary_mask.T\n",
        "\n",
        "def generate_ternary_mask(xml_file, shape):\n",
        "    tree = ET.parse(xml_file)\n",
        "    xDoc = tree.getroot()\n",
        "    regions = xDoc.iter('Region')\n",
        "    array_xy = []\n",
        "    \n",
        "    for i,region in enumerate(regions): # Region = nuclei \n",
        "        verticies = region.iter('Vertex')\n",
        "        l_verticies = len(list(region.iter('Vertex')))\n",
        "        xy = []\n",
        "        for vertexi,vertex in enumerate(region.iter('Vertex')):  \n",
        "            #get the x value of that vertex\n",
        "            x = float(vertex.attrib['X'])\n",
        "            y = float(vertex.attrib['Y'])\n",
        "\n",
        "            xy.append([x, y])        # finally save them into the array\n",
        "        array_xy.append(xy)\n",
        "    array_xy = np.array(array_xy, dtype=list)  \n",
        "    ncol, nrow = shape[0], shape[1]\n",
        "    ternary_mask = np.zeros((nrow,ncol))\n",
        "\n",
        "    for i,r in enumerate(array_xy):    #for each region\n",
        "        smaller_x = np.array(r)[:,0] \n",
        "        smaller_y = np.array(r)[:,1]\n",
        "        try:\n",
        "            r1, c1 = polygon(smaller_x, smaller_y, shape=(nrow, ncol))\n",
        "            ternary_mask[r1, c1] += 1\n",
        "            r2, c2 = polygon_perimeter(smaller_x, smaller_y, shape=(nrow, ncol))\n",
        "            ternary_mask[r2, c2] = 0\n",
        "        except:\n",
        "            continue\n",
        "\n",
        "    temp_mask = np.where(ternary_mask > 1, 1, 0)\n",
        "    ternary_mask[ternary_mask > 1] = 0\n",
        "    ternary_mask[ternary_mask == 1] = 255\n",
        "    ternary_mask = generate_boarder(ternary_mask)\n",
        "    ternary_mask[temp_mask== 1] = 127\n",
        "        \n",
        "    return ternary_mask.T"
      ],
      "metadata": {
        "id": "mcNqbUptKI7C"
      },
      "execution_count": 13,
      "outputs": []
    },
    {
      "cell_type": "code",
      "source": [
        "train_xml_dir = \"dataset/monuseg/original/train/annotations\"\n",
        "test_xml_dir = \"dataset/monuseg/original/test/annotations\"\n",
        "shape = (1000, 1000)"
      ],
      "metadata": {
        "id": "rMwTtSY55n6E"
      },
      "execution_count": 14,
      "outputs": []
    },
    {
      "cell_type": "code",
      "source": [
        "train_instance_mask_path = \"dataset/monuseg/stain_normalized/train/instance_masks\"\n",
        "create_path(train_instance_mask_path)\n",
        "train_binary_mask_path = \"dataset/monuseg/stain_normalized/train/binary_masks\"\n",
        "create_path(train_binary_mask_path)\n",
        "train_modified_mask_path = \"dataset/monuseg/stain_normalized/train/modified_masks\"\n",
        "create_path(train_modified_mask_path)\n",
        "\n",
        "test_instance_mask_path = \"dataset/monuseg/stain_normalized/test/instance_masks\"\n",
        "create_path(test_instance_mask_path)\n",
        "test_binary_mask_path = \"dataset/monuseg/stain_normalized/test/binary_masks\"\n",
        "create_path(test_binary_mask_path)\n",
        "test_modified_mask_path = \"dataset/monuseg/stain_normalized/test/modified_masks\"\n",
        "create_path(test_modified_mask_path)"
      ],
      "metadata": {
        "id": "fp4BbltA4edz"
      },
      "execution_count": 15,
      "outputs": []
    },
    {
      "cell_type": "code",
      "source": [
        "test_color_mask_path = \"dataset/monuseg/stain_normalized/test/color_masks\"\n",
        "create_path(test_color_mask_path)"
      ],
      "metadata": {
        "id": "EKY9_5igs-BE"
      },
      "execution_count": 16,
      "outputs": []
    },
    {
      "cell_type": "code",
      "source": [
        "for xml_path in tqdm(glob.glob(os.path.join(train_xml_dir, \"*\")), total=len(os.listdir(train_xml_dir))):\n",
        "    name = os.path.basename(xml_path)\n",
        "\n",
        "    binary_mask = generate_mask(xml_path, shape)\n",
        "    cv2.imwrite(os.path.join(train_binary_mask_path, name.replace(\"xml\", \"png\")), binary_mask*255)\n",
        "\n",
        "    instance_mask = generate_mask(xml_path, shape, instance=True)\n",
        "    np.save(os.path.join(train_instance_mask_path, name.replace(\"xml\", \"npy\")), instance_mask)\n",
        "\n",
        "    modified_mask = generate_ternary_mask(xml_path, shape)\n",
        "    cv2.imwrite(os.path.join(train_modified_mask_path, name.replace(\"xml\", \"png\")), modified_mask)"
      ],
      "metadata": {
        "colab": {
          "base_uri": "https://localhost:8080/"
        },
        "id": "YY-skT4E5_r5",
        "outputId": "f51e23bc-a973-4e6b-850b-845898de2527"
      },
      "execution_count": 17,
      "outputs": [
        {
          "output_type": "stream",
          "name": "stderr",
          "text": [
            "100%|██████████| 30/30 [03:01<00:00,  6.03s/it]\n"
          ]
        }
      ]
    },
    {
      "cell_type": "code",
      "source": [
        "for xml_path in tqdm(glob.glob(os.path.join(test_xml_dir, \"*\")), total=len(os.listdir(test_xml_dir))):\n",
        "    name = os.path.basename(xml_path)\n",
        "\n",
        "    binary_mask = generate_mask(xml_path, shape)\n",
        "    cv2.imwrite(os.path.join(test_binary_mask_path, name.replace(\"xml\", \"png\")), binary_mask*255)\n",
        "\n",
        "    instance_mask = generate_mask(xml_path, shape, instance=True)\n",
        "    np.save(os.path.join(test_instance_mask_path, name.replace(\"xml\", \"npy\")), instance_mask)\n",
        "\n",
        "    modified_mask = generate_ternary_mask(xml_path, shape)\n",
        "    cv2.imwrite(os.path.join(test_modified_mask_path, name.replace(\"xml\", \"png\")), modified_mask)"
      ],
      "metadata": {
        "colab": {
          "base_uri": "https://localhost:8080/"
        },
        "id": "p_m9SCey6VOM",
        "outputId": "a7347e88-8fa0-4406-f77c-e8a5225e2e4a"
      },
      "execution_count": 18,
      "outputs": [
        {
          "output_type": "stream",
          "name": "stderr",
          "text": [
            "100%|██████████| 14/14 [00:40<00:00,  2.91s/it]\n"
          ]
        }
      ]
    },
    {
      "cell_type": "code",
      "source": [],
      "metadata": {
        "id": "og1PYIch6lg6"
      },
      "execution_count": null,
      "outputs": []
    }
  ]
}